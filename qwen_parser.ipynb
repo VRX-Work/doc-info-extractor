{
  "nbformat": 4,
  "nbformat_minor": 0,
  "metadata": {
    "colab": {
      "provenance": [],
      "gpuType": "T4",
      "authorship_tag": "ABX9TyOgb5UZQfWhfcPT5iH8hTzk",
      "include_colab_link": true
    },
    "kernelspec": {
      "name": "python3",
      "display_name": "Python 3"
    },
    "language_info": {
      "name": "python"
    },
    "accelerator": "GPU"
  },
  "cells": [
    {
      "cell_type": "markdown",
      "metadata": {
        "id": "view-in-github",
        "colab_type": "text"
      },
      "source": [
        "<a href=\"https://colab.research.google.com/github/VRX-Work/doc-info-extractor/blob/main/qwen_parser.ipynb\" target=\"_parent\"><img src=\"https://colab.research.google.com/assets/colab-badge.svg\" alt=\"Open In Colab\"/></a>"
      ]
    },
    {
      "cell_type": "markdown",
      "source": [
        "# Main Implementation"
      ],
      "metadata": {
        "id": "56y6KKHUOG9Z"
      }
    },
    {
      "cell_type": "code",
      "source": [
        "!apt-get install poppler-utils\n",
        "!pip install pdf2image --no-cache-dir\n",
        "!pip install transformers\n",
        "!pip install qwen-vl-utils\n",
        "!pip install -q streamlit"
      ],
      "metadata": {
        "colab": {
          "base_uri": "https://localhost:8080/"
        },
        "id": "S17KUYttOGsv",
        "outputId": "e7001748-0089-4f2f-9500-39498e16eb38"
      },
      "execution_count": 1,
      "outputs": [
        {
          "output_type": "stream",
          "name": "stdout",
          "text": [
            "Reading package lists... Done\n",
            "Building dependency tree... Done\n",
            "Reading state information... Done\n",
            "poppler-utils is already the newest version (22.02.0-2ubuntu0.5).\n",
            "0 upgraded, 0 newly installed, 0 to remove and 49 not upgraded.\n",
            "Requirement already satisfied: pdf2image in /usr/local/lib/python3.10/dist-packages (1.17.0)\n",
            "Requirement already satisfied: pillow in /usr/local/lib/python3.10/dist-packages (from pdf2image) (11.0.0)\n",
            "Requirement already satisfied: transformers in /usr/local/lib/python3.10/dist-packages (4.46.3)\n",
            "Requirement already satisfied: filelock in /usr/local/lib/python3.10/dist-packages (from transformers) (3.16.1)\n",
            "Requirement already satisfied: huggingface-hub<1.0,>=0.23.2 in /usr/local/lib/python3.10/dist-packages (from transformers) (0.26.3)\n",
            "Requirement already satisfied: numpy>=1.17 in /usr/local/lib/python3.10/dist-packages (from transformers) (1.26.4)\n",
            "Requirement already satisfied: packaging>=20.0 in /usr/local/lib/python3.10/dist-packages (from transformers) (24.2)\n",
            "Requirement already satisfied: pyyaml>=5.1 in /usr/local/lib/python3.10/dist-packages (from transformers) (6.0.2)\n",
            "Requirement already satisfied: regex!=2019.12.17 in /usr/local/lib/python3.10/dist-packages (from transformers) (2024.9.11)\n",
            "Requirement already satisfied: requests in /usr/local/lib/python3.10/dist-packages (from transformers) (2.32.3)\n",
            "Requirement already satisfied: tokenizers<0.21,>=0.20 in /usr/local/lib/python3.10/dist-packages (from transformers) (0.20.3)\n",
            "Requirement already satisfied: safetensors>=0.4.1 in /usr/local/lib/python3.10/dist-packages (from transformers) (0.4.5)\n",
            "Requirement already satisfied: tqdm>=4.27 in /usr/local/lib/python3.10/dist-packages (from transformers) (4.66.6)\n",
            "Requirement already satisfied: fsspec>=2023.5.0 in /usr/local/lib/python3.10/dist-packages (from huggingface-hub<1.0,>=0.23.2->transformers) (2024.10.0)\n",
            "Requirement already satisfied: typing-extensions>=3.7.4.3 in /usr/local/lib/python3.10/dist-packages (from huggingface-hub<1.0,>=0.23.2->transformers) (4.12.2)\n",
            "Requirement already satisfied: charset-normalizer<4,>=2 in /usr/local/lib/python3.10/dist-packages (from requests->transformers) (3.4.0)\n",
            "Requirement already satisfied: idna<4,>=2.5 in /usr/local/lib/python3.10/dist-packages (from requests->transformers) (3.10)\n",
            "Requirement already satisfied: urllib3<3,>=1.21.1 in /usr/local/lib/python3.10/dist-packages (from requests->transformers) (2.2.3)\n",
            "Requirement already satisfied: certifi>=2017.4.17 in /usr/local/lib/python3.10/dist-packages (from requests->transformers) (2024.8.30)\n",
            "Requirement already satisfied: qwen-vl-utils in /usr/local/lib/python3.10/dist-packages (0.0.8)\n",
            "Requirement already satisfied: av in /usr/local/lib/python3.10/dist-packages (from qwen-vl-utils) (14.0.0)\n",
            "Requirement already satisfied: packaging in /usr/local/lib/python3.10/dist-packages (from qwen-vl-utils) (24.2)\n",
            "Requirement already satisfied: pillow in /usr/local/lib/python3.10/dist-packages (from qwen-vl-utils) (11.0.0)\n",
            "Requirement already satisfied: requests in /usr/local/lib/python3.10/dist-packages (from qwen-vl-utils) (2.32.3)\n",
            "Requirement already satisfied: charset-normalizer<4,>=2 in /usr/local/lib/python3.10/dist-packages (from requests->qwen-vl-utils) (3.4.0)\n",
            "Requirement already satisfied: idna<4,>=2.5 in /usr/local/lib/python3.10/dist-packages (from requests->qwen-vl-utils) (3.10)\n",
            "Requirement already satisfied: urllib3<3,>=1.21.1 in /usr/local/lib/python3.10/dist-packages (from requests->qwen-vl-utils) (2.2.3)\n",
            "Requirement already satisfied: certifi>=2017.4.17 in /usr/local/lib/python3.10/dist-packages (from requests->qwen-vl-utils) (2024.8.30)\n"
          ]
        }
      ]
    },
    {
      "cell_type": "code",
      "source": [
        "!npm install localtunnel"
      ],
      "metadata": {
        "colab": {
          "base_uri": "https://localhost:8080/"
        },
        "id": "X3H_F_U2bPQb",
        "outputId": "c7fbd265-8e6e-4a89-aa7f-3dcabcc528f6"
      },
      "execution_count": 2,
      "outputs": [
        {
          "output_type": "stream",
          "name": "stdout",
          "text": [
            "\u001b[1G\u001b[0K⠙\u001b[1G\u001b[0K⠹\u001b[1G\u001b[0K⠸\u001b[1G\u001b[0K⠼\u001b[1G\u001b[0K⠴\u001b[1G\u001b[0K⠦\u001b[1G\u001b[0K⠧\u001b[1G\u001b[0K⠇\u001b[1G\u001b[0K\n",
            "up to date, audited 23 packages in 2s\n",
            "\u001b[1G\u001b[0K⠇\u001b[1G\u001b[0K\n",
            "\u001b[1G\u001b[0K⠇\u001b[1G\u001b[0K3 packages are looking for funding\n",
            "\u001b[1G\u001b[0K⠇\u001b[1G\u001b[0K  run `npm fund` for details\n",
            "\u001b[1G\u001b[0K⠇\u001b[1G\u001b[0K\n",
            "2 \u001b[33m\u001b[1mmoderate\u001b[22m\u001b[39m severity vulnerabilities\n",
            "\n",
            "To address all issues (including breaking changes), run:\n",
            "  npm audit fix --force\n",
            "\n",
            "Run `npm audit` for details.\n",
            "\u001b[1G\u001b[0K⠇\u001b[1G\u001b[0K"
          ]
        }
      ]
    },
    {
      "cell_type": "code",
      "source": [
        "%%writefile app.py\n",
        "import streamlit as st\n",
        "from pdf2image import convert_from_bytes\n",
        "\n",
        "# Load model directly\n",
        "from transformers import Qwen2VLForConditionalGeneration, AutoProcessor, TextIteratorStreamer\n",
        "import torch\n",
        "from qwen_vl_utils import process_vision_info\n",
        "\n",
        "MODEL_ID = \"Qwen/Qwen2-VL-2B-Instruct\"\n",
        "model = Qwen2VLForConditionalGeneration.from_pretrained(\n",
        "    MODEL_ID,\n",
        "    trust_remote_code=True,\n",
        "    torch_dtype=torch.float16\n",
        ").to(\"cuda\").eval()\n",
        "\n",
        "min_pixels = 256*28*28\n",
        "max_pixels = 720*28*28\n",
        "processor = AutoProcessor.from_pretrained(\"Qwen/Qwen2-VL-2B-Instruct\", min_pixels=min_pixels, max_pixels=max_pixels)\n",
        "\n",
        "st.title(\"Document Data Extractor\")\n",
        "pdf_file = st.file_uploader(\"Upload Document\", type=\"pdf\")\n",
        "\n",
        "# Inference Loop\n",
        "\n",
        "responses = {\n",
        "    \"full\": [],\n",
        "    \"sliced\": []\n",
        "}\n",
        "\n",
        "if pdf_file is not None:\n",
        "  images = convert_from_bytes(pdf_file.read()) # Input PDF\n",
        "  bar = st.progress(0)\n",
        "\n",
        "  for idx, image in enumerate(images):\n",
        "    image.save(\"sample.png\", \"PNG\") # Await this in async\n",
        "\n",
        "    # Pre-process Logic\n",
        "    messages = [\n",
        "      {\n",
        "          \"role\": \"user\",\n",
        "          \"content\": [\n",
        "              {\n",
        "                  \"type\": \"image\",\n",
        "                  \"image\": \"/content/sample.png\"\n",
        "              },\n",
        "              {\"type\": \"text\", \"text\": \"From this image extract every single field and value and provide the output in this csv form file,value\"},\n",
        "          ],\n",
        "      },\n",
        "    ]\n",
        "\n",
        "    text = processor.apply_chat_template(messages, tokenize=False, add_generation_prompt=True)\n",
        "    image_inputs, video_inputs = process_vision_info(messages)\n",
        "    inputs = processor(\n",
        "            text=[text],\n",
        "            images=image_inputs,\n",
        "            videos=video_inputs,\n",
        "            padding=True,\n",
        "            return_tensors=\"pt\",\n",
        "        ).to(\"cuda\")\n",
        "\n",
        "    # Inference here\n",
        "    generate_ids = model.generate(**inputs, max_new_tokens=1024)\n",
        "    response_full = processor.batch_decode(generate_ids, skip_special_tokens=True, clean_up_tokenization_spaces=False)[0]\n",
        "    response_sliced = processor.decode(generate_ids[0][inputs[\"input_ids\"].shape[1]:], skip_special_tokens=True, clean_up_tokenization_spaces=False)\n",
        "    bar.progress(100 // (len(images) - idx))\n",
        "    responses[\"full\"].append(response_full)\n",
        "    responses[\"sliced\"].append(response_sliced)\n",
        "\n",
        "    st.markdown(f\"**Page {idx}**\")\n",
        "    st.markdown(response_sliced)\n",
        "\n",
        "    del inputs # Free cuda cache"
      ],
      "metadata": {
        "id": "Mt2QFGMdOXz2",
        "colab": {
          "base_uri": "https://localhost:8080/"
        },
        "outputId": "104d9ff7-ffda-440c-bc0e-65dfd04ee806"
      },
      "execution_count": 5,
      "outputs": [
        {
          "output_type": "stream",
          "name": "stdout",
          "text": [
            "Overwriting app.py\n"
          ]
        }
      ]
    },
    {
      "cell_type": "code",
      "source": [
        "!streamlit run app.py &>/content/logs.txt &\n",
        "!npx localtunnel --port 8501"
      ],
      "metadata": {
        "colab": {
          "base_uri": "https://localhost:8080/"
        },
        "id": "srjKueAgvqbF",
        "outputId": "5b544a3b-1673-4988-b05c-cbb64e3de0f6"
      },
      "execution_count": 6,
      "outputs": [
        {
          "output_type": "stream",
          "name": "stdout",
          "text": [
            "\u001b[1G\u001b[0K⠙\u001b[1G\u001b[0Kyour url is: https://wild-queens-try.loca.lt\n",
            "^C\n"
          ]
        }
      ]
    },
    {
      "cell_type": "code",
      "source": [
        "print(responses)"
      ],
      "metadata": {
        "colab": {
          "base_uri": "https://localhost:8080/"
        },
        "id": "f-s9MLs9Rl8i",
        "outputId": "8e34a41f-d67a-4b93-bd9d-6a791efe6218"
      },
      "execution_count": 11,
      "outputs": [
        {
          "output_type": "stream",
          "name": "stdout",
          "text": [
            "{'full': [\"system\\nYou are a helpful assistant.\\nuser\\nFrom this image extract every single field and value and provide the output in this csv form file,value\\nassistant\\n|Field|Value|\\n|---|---|\\n|Form No.| PAS-3|\\n|Language| English|\\n|Reference| Hindi|\\n|Instructions| Pre-fill|\\n|Corporate Identity Number (CIN)| U74999HR2015FTC056386|\\n|Global Location Number (GLN)| CARS24 SERVICES PRIVATE LIMITED|\\n|Address of the Registered office of the company| 10th Floor, Tower – B, Unitech Cyber Park, Sector - 39, Gurugram, Gurgaon, Haryana 122001|\\n|Email Id of the company| roc@cars24.com|\\n|Number of allotments| 1|\\n|Date of allotment| 24/06/2022|\\n|Date of passing shareholders' resolution| 24/06/2022|\\n|SRN of Form No. MGT-14| MGT-14|\\n|Preference shares| 1|\\n|Equity shares without Differential rights| 10|\\n|Equity Shares with Differential rights| 10|\\n|Debentures| 0|\\n|Brief particulars of terms and conditions| Pari-Passu to Existing Equity Shares|\\n|Number of securities allotted| 879435|\\n|Nominal amount per security| 10|\\n|Total nominal amount| 8794350|\\n|Amount paid per security on application (excluding premium)| 10|\\n|Total amount paid on application (excluding premium)| 8794350|\\n|Amount due and payable on allotment per security (excluding premium)| 0|\\n|Total Amount payable on allotment (excluding premium)| 0|\\n|Premium amount per security due and payable (if any)| 6661.87|\\n|Total premium amount due and payable (if any)| 5858680650|\\n|Premium amount paid per security (if any)| 6661.87|\\n|Total premium amount paid (if any)| 5858680650|\\n|Amount of discount per security (if any)| 0|\\n|Total discount amount (if any)| 0|\\n|Amount to be paid on calls per security (if any) (excluding premium)| 0|\\n|Total amount to be paid on calls (if any) (excluding premium)| 0|\", \"system\\nYou are a helpful assistant.\\nuser\\nFrom this image extract every single field and value and provide the output in this csv form file,value\\nassistant\\n|Field|Value|\\n|---|---|\\n|Preference shares| |\\n|Equity shares without Differential rights| |\\n|Equity Shares with Differential rights| |\\n|Debentures| |\\n|Number of allotments| |\\n|Date of allotment| |\\n|Date of passing shareholders' resolution| |\\n|SRN of Form No. MGT-14| |\\n|Nominal amount per security| |\\n|Total nominal amount| |\\n|Amount to be treated as paid up on each security| |\\n|Premium amount per security (if any) (in Rs.)| |\\n|Total premium amount (if any) (in Rs.)| |\\n|Amount of discount per security (if any) (in Rs.)| |\\n|Total discount amount (if any) (in Rs.)| |\\n|Details of consideration| |\\n|Consideration for which such securities have been allotted| |\\n|Description of the consideration| |\\n|Value (amount in Rs.)| |\\n|Property and assets acquired| |\\n|Goodwill| |\\n|Services (give nature of services)| |\\n|Conversion of Debentures| |\\n|Conversion of Loans| |\\n|Other items (to be specified)| |\\n|Whether an agreement or contract is executed in writing for allotting securities for consideration other than cash| |\\n|Whether valuation report of the Valuated person has been obtained.| |\", 'system\\nYou are a helpful assistant.\\nuser\\nFrom this image extract every single field and value and provide the output in this csv form file,value\\nassistant\\n|Particulars| Authorized capital of the company| Issued capital of the company| Subscribed capital| Paid up capital|\\n|---|---|---|---|---|\\n|Number of equity shares| 20000000| 16515998| 16515998| 16515998|\\n|Nominal amount per equity share| 10| 10| 10| 10|\\n|Total amount of equity shares| 20000000| 165159980| 165159980| 165159980|\\n|Number of preference shares| 0| 0| 0| 0|\\n|Nominal value per preference share| 0| 0| 0| 0|\\n|Total amount of preference shares| 0| 0| 0| 0|\\n|Unclassified shares| 0| 0| 0| 0|\\n|Total amount of unclassified shares (in Rs.)| 20000000| 165159980| 165159980| 165159980|', 'system\\nYou are a helpful assistant.\\nuser\\nFrom this image extract every single field and value and provide the output in this csv form file,value\\nassistant\\n|Field|Value|\\n|---|---|\\n|Particulars|Debentures|\\n|Total number of securities|4660|\\n|Nominal value per unit of security|1600|\\n|Total amount|1900000000|\\n|Secured loans|264285950|\\n|Others, specify|0|\\n|Yes|0|\\n|No|0|\\n|List of allottees|2a List of Allottees.pdf|\\n|1a BR-Allotment of 879435 shares_24Jun22.|\\n|Attach|Attach|\\n|Attach|Attach|\\n|Optional attachment(s), if any.|', 'system\\nYou are a helpful assistant.\\nuser\\nFrom this image extract every single field and value and provide the output in this csv form file,value\\nassistant\\n|Field|Value|\\n|---|---|\\n|Designation|Director|\\n|Director identification number of the director; OR|05341082|\\n|DIN or PAN of the manager or CEO or CFO; or|MEMUL AGRA WAL|\\n|Certificate by practicing professional|SAHIL GAUR|\\n|To be digitally signed by|Chartered accountant (in whole-time practice) or Cost accountant (in whole-time practice) or Company secretary (in whole-time practice) or Whether associate or fellow Associate Fellow|\\n|Membership number|11457|\\n|Certificate of practice number|17229|\\n|Date of signature|05/06/2022|\\n|Date of declaration|24/06/2022|\\n|Signature|MEMUL AGRA WAL|\\n|Signature|SAHIL GAUR|\\n|Signature|MEMUL AGRA WAL|\\n|Signature|SAHIL GAUR|\\n|Signature|MEMUL AGRA WAL|\\n|Signature|SAHIL GAUR|\\n|Signature|MEMUL AGRA WAL|\\n|Signature|SAHIL GAUR|\\n|Signature|MEMUL AGRA WAL|\\n|Signature|SAHIL GAUR|\\n|Signature|MEMUL AGRA WAL|\\n|Signature|SAHIL GAUR|\\n|Signature|MEMUL AGRA WAL|\\n|Signature|SAHIL GAUR|\\n|Signature|MEMUL AGRA WAL|\\n|Signature|SAHIL GAUR|\\n|Signature|MEMUL AGRA WAL|\\n|Signature|SAHIL GAUR|\\n|Signature|MEMUL AGRA WAL|\\n|Signature|SAHIL GAUR|\\n|Signature|MEMUL AGRA WAL|\\n|Signature|SAHIL GAUR|\\n|Signature|MEMUL AGRA WAL|\\n|Signature|SAHIL GAUR|\\n|Signature|MEMUL AGRA WAL|\\n|Signature|SAHIL GAUR|\\n|Signature|MEMUL AGRA WAL|\\n|Signature|SAHIL GAUR|\\n|Signature|MEMUL AGRA WAL|\\n|Signature|SAHIL GAUR|\\n|Signature|MEMUL AGRA WAL|\\n|Signature|SAHIL GAUR|\\n|Signature|MEMUL AGRA WAL|\\n|Signature|SAHIL GAUR|\\n|Signature|MEMUL AGRA WAL|\\n|Signature|SAHIL GAUR|\\n|Signature|MEMUL AGRA WAL|\\n|Signature|SAHIL GAUR|\\n|Signature|MEMUL AGRA WAL|\\n|Signature|SAHIL GAUR|\\n|Signature|MEMUL AGRA WAL|\\n|Signature|SAHIL GAUR|\\n|Signature|MEMUL AGRA WAL|\\n|Signature|SAHIL GAUR|\\n|Signature|MEMUL AGRA WAL|\\n|Signature|SAHIL GAUR|\\n|Signature|MEMUL AGRA WAL|\\n|Signature|SAHIL GAUR|\\n|Signature|MEMUL AGRA WAL|\\n|Signature|SAHIL GAUR|\\n|Signature|MEMUL AGRA WAL|\\n|Signature|SAHIL GAUR|\\n|Signature|MEMUL AGRA WAL|\\n|Signature|SAHIL GAUR|\\n|Signature|MEMUL AGRA WAL|\\n|Signature|SAHIL GAUR|\\n|Signature|MEMUL AGRA WAL|\\n|Signature|SAHIL GAUR|\\n|Signature|MEMUL AGRA WAL|\\n|Signature|SAHIL GAUR|\\n|Signature|MEMUL AGRA WAL|\\n|Signature|SAHIL GAUR|\\n|Signature|MEMUL AGRA WAL|\\n|Signature|SAHIL GAUR|\\n|Signature|MEMUL AGRA WAL|\\n|Signature|SAHIL GAUR|\\n|Signature|MEMUL AGRA WAL|\\n|Signature|SAHIL GAUR|\\n|Signature|MEMUL AGRA WAL|\\n|Signature|SAHIL GAUR|\\n|Signature|MEMUL AGRA WAL|\\n|Signature|SAHIL GAUR|\\n|Signature|MEMUL AGRA WAL|\\n|Signature|SAHIL GAUR|\\n|Signature|MEMUL AGRA WAL|\\n|Signature|SAHIL GAUR|\\n|Signature|MEMUL AGRA WAL|\\n|Signature|SAHIL GAUR|\\n|Signature|MEMUL AGRA WAL|\\n|Signature|SAHIL GAUR|\\n|Signature|MEMUL AGRA WAL|\\n|Signature|SAHIL GAUR|\\n|Signature|MEMUL AGRA WAL|\\n|Signature|SAHIL GAUR|\\n|Signature|MEMUL AGRA WAL|\\n|Signature|SAHIL GAUR|\\n|Signature|MEMUL AGRA WAL|\\n|Signature|SAHIL GAUR|\\n|Signature|MEMUL AGRA WAL|\\n|Signature|SAHIL GAUR|\\n|Signature|MEMUL AGRA WAL|\\n|Signature|SAHIL GAUR|\\n|Signature|MEMUL AGRA WAL|\\n|Signature|SAHIL GAUR|\\n|Signature|MEMUL AGRA WAL|\\n|Signature|SAH'], 'sliced': [\"|Field|Value|\\n|---|---|\\n|Form No.| PAS-3|\\n|Language| English|\\n|Reference| Hindi|\\n|Instructions| Pre-fill|\\n|Corporate Identity Number (CIN)| U74999HR2015FTC056386|\\n|Global Location Number (GLN)| CARS24 SERVICES PRIVATE LIMITED|\\n|Address of the Registered office of the company| 10th Floor, Tower – B, Unitech Cyber Park, Sector - 39, Gurugram, Gurgaon, Haryana 122001|\\n|Email Id of the company| roc@cars24.com|\\n|Number of allotments| 1|\\n|Date of allotment| 24/06/2022|\\n|Date of passing shareholders' resolution| 24/06/2022|\\n|SRN of Form No. MGT-14| MGT-14|\\n|Preference shares| 1|\\n|Equity shares without Differential rights| 10|\\n|Equity Shares with Differential rights| 10|\\n|Debentures| 0|\\n|Brief particulars of terms and conditions| Pari-Passu to Existing Equity Shares|\\n|Number of securities allotted| 879435|\\n|Nominal amount per security| 10|\\n|Total nominal amount| 8794350|\\n|Amount paid per security on application (excluding premium)| 10|\\n|Total amount paid on application (excluding premium)| 8794350|\\n|Amount due and payable on allotment per security (excluding premium)| 0|\\n|Total Amount payable on allotment (excluding premium)| 0|\\n|Premium amount per security due and payable (if any)| 6661.87|\\n|Total premium amount due and payable (if any)| 5858680650|\\n|Premium amount paid per security (if any)| 6661.87|\\n|Total premium amount paid (if any)| 5858680650|\\n|Amount of discount per security (if any)| 0|\\n|Total discount amount (if any)| 0|\\n|Amount to be paid on calls per security (if any) (excluding premium)| 0|\\n|Total amount to be paid on calls (if any) (excluding premium)| 0|\", \"|Field|Value|\\n|---|---|\\n|Preference shares| |\\n|Equity shares without Differential rights| |\\n|Equity Shares with Differential rights| |\\n|Debentures| |\\n|Number of allotments| |\\n|Date of allotment| |\\n|Date of passing shareholders' resolution| |\\n|SRN of Form No. MGT-14| |\\n|Nominal amount per security| |\\n|Total nominal amount| |\\n|Amount to be treated as paid up on each security| |\\n|Premium amount per security (if any) (in Rs.)| |\\n|Total premium amount (if any) (in Rs.)| |\\n|Amount of discount per security (if any) (in Rs.)| |\\n|Total discount amount (if any) (in Rs.)| |\\n|Details of consideration| |\\n|Consideration for which such securities have been allotted| |\\n|Description of the consideration| |\\n|Value (amount in Rs.)| |\\n|Property and assets acquired| |\\n|Goodwill| |\\n|Services (give nature of services)| |\\n|Conversion of Debentures| |\\n|Conversion of Loans| |\\n|Other items (to be specified)| |\\n|Whether an agreement or contract is executed in writing for allotting securities for consideration other than cash| |\\n|Whether valuation report of the Valuated person has been obtained.| |\", '|Particulars| Authorized capital of the company| Issued capital of the company| Subscribed capital| Paid up capital|\\n|---|---|---|---|---|\\n|Number of equity shares| 20000000| 16515998| 16515998| 16515998|\\n|Nominal amount per equity share| 10| 10| 10| 10|\\n|Total amount of equity shares| 20000000| 165159980| 165159980| 165159980|\\n|Number of preference shares| 0| 0| 0| 0|\\n|Nominal value per preference share| 0| 0| 0| 0|\\n|Total amount of preference shares| 0| 0| 0| 0|\\n|Unclassified shares| 0| 0| 0| 0|\\n|Total amount of unclassified shares (in Rs.)| 20000000| 165159980| 165159980| 165159980|', '|Field|Value|\\n|---|---|\\n|Particulars|Debentures|\\n|Total number of securities|4660|\\n|Nominal value per unit of security|1600|\\n|Total amount|1900000000|\\n|Secured loans|264285950|\\n|Others, specify|0|\\n|Yes|0|\\n|No|0|\\n|List of allottees|2a List of Allottees.pdf|\\n|1a BR-Allotment of 879435 shares_24Jun22.|\\n|Attach|Attach|\\n|Attach|Attach|\\n|Optional attachment(s), if any.|', '|Field|Value|\\n|---|---|\\n|Designation|Director|\\n|Director identification number of the director; OR|05341082|\\n|DIN or PAN of the manager or CEO or CFO; or|MEMUL AGRA WAL|\\n|Certificate by practicing professional|SAHIL GAUR|\\n|To be digitally signed by|Chartered accountant (in whole-time practice) or Cost accountant (in whole-time practice) or Company secretary (in whole-time practice) or Whether associate or fellow Associate Fellow|\\n|Membership number|11457|\\n|Certificate of practice number|17229|\\n|Date of signature|05/06/2022|\\n|Date of declaration|24/06/2022|\\n|Signature|MEMUL AGRA WAL|\\n|Signature|SAHIL GAUR|\\n|Signature|MEMUL AGRA WAL|\\n|Signature|SAHIL GAUR|\\n|Signature|MEMUL AGRA WAL|\\n|Signature|SAHIL GAUR|\\n|Signature|MEMUL AGRA WAL|\\n|Signature|SAHIL GAUR|\\n|Signature|MEMUL AGRA WAL|\\n|Signature|SAHIL GAUR|\\n|Signature|MEMUL AGRA WAL|\\n|Signature|SAHIL GAUR|\\n|Signature|MEMUL AGRA WAL|\\n|Signature|SAHIL GAUR|\\n|Signature|MEMUL AGRA WAL|\\n|Signature|SAHIL GAUR|\\n|Signature|MEMUL AGRA WAL|\\n|Signature|SAHIL GAUR|\\n|Signature|MEMUL AGRA WAL|\\n|Signature|SAHIL GAUR|\\n|Signature|MEMUL AGRA WAL|\\n|Signature|SAHIL GAUR|\\n|Signature|MEMUL AGRA WAL|\\n|Signature|SAHIL GAUR|\\n|Signature|MEMUL AGRA WAL|\\n|Signature|SAHIL GAUR|\\n|Signature|MEMUL AGRA WAL|\\n|Signature|SAHIL GAUR|\\n|Signature|MEMUL AGRA WAL|\\n|Signature|SAHIL GAUR|\\n|Signature|MEMUL AGRA WAL|\\n|Signature|SAHIL GAUR|\\n|Signature|MEMUL AGRA WAL|\\n|Signature|SAHIL GAUR|\\n|Signature|MEMUL AGRA WAL|\\n|Signature|SAHIL GAUR|\\n|Signature|MEMUL AGRA WAL|\\n|Signature|SAHIL GAUR|\\n|Signature|MEMUL AGRA WAL|\\n|Signature|SAHIL GAUR|\\n|Signature|MEMUL AGRA WAL|\\n|Signature|SAHIL GAUR|\\n|Signature|MEMUL AGRA WAL|\\n|Signature|SAHIL GAUR|\\n|Signature|MEMUL AGRA WAL|\\n|Signature|SAHIL GAUR|\\n|Signature|MEMUL AGRA WAL|\\n|Signature|SAHIL GAUR|\\n|Signature|MEMUL AGRA WAL|\\n|Signature|SAHIL GAUR|\\n|Signature|MEMUL AGRA WAL|\\n|Signature|SAHIL GAUR|\\n|Signature|MEMUL AGRA WAL|\\n|Signature|SAHIL GAUR|\\n|Signature|MEMUL AGRA WAL|\\n|Signature|SAHIL GAUR|\\n|Signature|MEMUL AGRA WAL|\\n|Signature|SAHIL GAUR|\\n|Signature|MEMUL AGRA WAL|\\n|Signature|SAHIL GAUR|\\n|Signature|MEMUL AGRA WAL|\\n|Signature|SAHIL GAUR|\\n|Signature|MEMUL AGRA WAL|\\n|Signature|SAHIL GAUR|\\n|Signature|MEMUL AGRA WAL|\\n|Signature|SAHIL GAUR|\\n|Signature|MEMUL AGRA WAL|\\n|Signature|SAHIL GAUR|\\n|Signature|MEMUL AGRA WAL|\\n|Signature|SAHIL GAUR|\\n|Signature|MEMUL AGRA WAL|\\n|Signature|SAHIL GAUR|\\n|Signature|MEMUL AGRA WAL|\\n|Signature|SAHIL GAUR|\\n|Signature|MEMUL AGRA WAL|\\n|Signature|SAHIL GAUR|\\n|Signature|MEMUL AGRA WAL|\\n|Signature|SAHIL GAUR|\\n|Signature|MEMUL AGRA WAL|\\n|Signature|SAHIL GAUR|\\n|Signature|MEMUL AGRA WAL|\\n|Signature|SAHIL GAUR|\\n|Signature|MEMUL AGRA WAL|\\n|Signature|SAHIL GAUR|\\n|Signature|MEMUL AGRA WAL|\\n|Signature|SAHIL GAUR|\\n|Signature|MEMUL AGRA WAL|\\n|Signature|SAHIL GAUR|\\n|Signature|MEMUL AGRA WAL|\\n|Signature|SAHIL GAUR|\\n|Signature|MEMUL AGRA WAL|\\n|Signature|SAHIL GAUR|\\n|Signature|MEMUL AGRA WAL|\\n|Signature|SAHIL GAUR|\\n|Signature|MEMUL AGRA WAL|\\n|Signature|SAH']}\n"
          ]
        }
      ]
    },
    {
      "cell_type": "markdown",
      "source": [
        "|Field|Value|\n",
        "|---|---|\n",
        "|Form No.| PAS-3|\n",
        "|Language| English|\n",
        "|Reference| Hindi|\n",
        "|Instructions| Pre-fill|\n",
        "|Corporate Identity Number (CIN)| U74999HR2015FTC056386|\n",
        "|Global Location Number (GLN)| CARS24 SERVICES PRIVATE LIMITED|\n",
        "|Address of the Registered office of the company| 10th Floor, Tower – B, Unitech Cyber Park, Sector - 39, Gurugram, Gurgaon, Haryana 122001|\n",
        "|Email Id of the company| roc@cars24.com|\n",
        "|Number of allotments| 1|\n",
        "|Date of allotment| 24/06/2022|\n",
        "|Date of passing shareholders' resolution| 24/06/2022|\n",
        "|SRN of Form No. MGT-14| MGT-14|\n",
        "|Preference shares| 1|\n",
        "|Equity shares without Differential rights| 10|\n",
        "|Equity Shares with Differential rights| 10|\n",
        "|Debentures| 0|\n",
        "|Brief particulars of terms and conditions| Pari-Passu to Existing Equity Shares|\n",
        "|Number of securities allotted| 879435|\n",
        "|Nominal amount per security| 10|\n",
        "|Total nominal amount| 8794350|\n",
        "|Amount paid per security on application (excluding premium)| 10|\n",
        "|Total amount paid on application (excluding premium)| 8794350|\n",
        "|Amount due and payable on allotment per security (excluding premium)| 0|\n",
        "|Total Amount payable on allotment (excluding premium)| 0|\n",
        "|Premium amount per security due and payable (if any)| 6661.87|\n",
        "|Total premium amount due and payable (if any)| 5858680650|\n",
        "|Premium amount paid per security (if any)| 6661.87|\n",
        "|Total premium amount paid (if any)| 5858680650|\n",
        "|Amount of discount per security (if any)| 0|\n",
        "|Total discount amount (if any)| 0|\n",
        "|Amount to be paid on calls per security (if any) (excluding premium)| 0|\n",
        "|Total amount to be paid on calls (if any) (excluding premium)| 0|"
      ],
      "metadata": {
        "id": "26YnQCIPSwLp"
      }
    },
    {
      "cell_type": "code",
      "source": [
        "\n",
        "\n",
        "# st.write('Hello, *World!* :sunglasses:')"
      ],
      "metadata": {
        "id": "mUUPUq8FSwwi"
      },
      "execution_count": null,
      "outputs": []
    },
    {
      "cell_type": "code",
      "source": [
        "!streamlit run app.py &>/content/logs.txt &\n",
        "!npx localtunnel --port 8501"
      ],
      "metadata": {
        "id": "72GDuM3sbUzZ"
      },
      "execution_count": null,
      "outputs": []
    }
  ]
}